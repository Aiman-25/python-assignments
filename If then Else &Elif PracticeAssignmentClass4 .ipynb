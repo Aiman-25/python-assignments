{
 "cells": [
  {
   "cell_type": "raw",
   "metadata": {
    "id": "8rksu2_jMVjQ"
   },
   "source": [
    "1) A company decided to give bonus of 5% to employee if his/her year of service is more than 5 years.\n",
    "Ask user for their salary and year of service and print the net bonus amount."
   ]
  },
  {
   "cell_type": "code",
   "execution_count": 7,
   "metadata": {
    "id": "3kDSFTKdMcqZ",
    "scrolled": true
   },
   "outputs": [
    {
     "name": "stdout",
     "output_type": "stream",
     "text": [
      "enter your salary500\n",
      "enter yos6\n",
      "net bonus amount is2500.0\n"
     ]
    }
   ],
   "source": [
    "#Type your code here\n",
    "salary=int(input(\"enter your salary\"))\n",
    "year_of_service=int(input(\"enter yos\"))\n",
    "if year_of_service>=5:\n",
    "    salary= salary*((5/100)*100)\n",
    "    print(f\"net bonus amount is {salary}\")\n",
    "else:\n",
    "    print(\"your yos is less than 5 years\")"
   ]
  },
  {
   "cell_type": "markdown",
   "metadata": {
    "id": "iXt5RVcjMVja"
   },
   "source": [
    "\n",
    "2) Write a program to check whether a person is eligible for voting or not. (accept age from user)"
   ]
  },
  {
   "cell_type": "code",
   "execution_count": 9,
   "metadata": {
    "id": "jXVCvia3MVjh"
   },
   "outputs": [
    {
     "name": "stdout",
     "output_type": "stream",
     "text": [
      "Enter age98\n",
      "you are eligble for voting\n"
     ]
    }
   ],
   "source": [
    "age=int((input(\"Enter age\")))\n",
    "if age>=18:\n",
    "    print(\"you are eligble for voting\")\n",
    "else:\n",
    "    print(\"you cannot vote\")"
   ]
  },
  {
   "cell_type": "markdown",
   "metadata": {
    "id": "IkNM7QpCMVjj"
   },
   "source": [
    "\n",
    "3) Write a program to check whether a number entered by user is even or odd."
   ]
  },
  {
   "cell_type": "code",
   "execution_count": 2,
   "metadata": {
    "id": "-GxviwByMVjl"
   },
   "outputs": [
    {
     "name": "stdout",
     "output_type": "stream",
     "text": [
      "enter number: 9874\n",
      "number is even\n"
     ]
    }
   ],
   "source": [
    "#Type your code here\n",
    "num=int(input(\"enter number: \"))\n",
    "if num%2==0:\n",
    "    print(\"number is even\")\n",
    "else:\n",
    "    print(\"num is odd\")"
   ]
  },
  {
   "cell_type": "markdown",
   "metadata": {
    "id": "_jEHjkfdMVjm"
   },
   "source": [
    "4) Write a program to check whether a number is divisible by 7 or not.\n",
    "Show Answer"
   ]
  },
  {
   "cell_type": "code",
   "execution_count": 3,
   "metadata": {
    "id": "IRNXyG1GMVjo"
   },
   "outputs": [
    {
     "name": "stdout",
     "output_type": "stream",
     "text": [
      "enter number: 63\n",
      "number is divisible by 7\n"
     ]
    }
   ],
   "source": [
    "#Type your code here\n",
    "num= int(input(\"enter number: \"))\n",
    "if num%7==0:\n",
    "    print(\"number is divisible by 7\")\n",
    "else:\n",
    "     print(\"number is not divisible by 7\")"
   ]
  },
  {
   "cell_type": "raw",
   "metadata": {
    "id": "XxfyVe4kMVjp"
   },
   "source": [
    "5) Write a program to display \n",
    "\"Hello\" if a number entered by user is a multiple of five , otherwise print \"Bye\"."
   ]
  },
  {
   "cell_type": "code",
   "execution_count": 4,
   "metadata": {
    "id": "Ixnz4R4TMVjr"
   },
   "outputs": [
    {
     "name": "stdout",
     "output_type": "stream",
     "text": [
      "enter number: 30\n",
      "hello\n"
     ]
    }
   ],
   "source": [
    "#Type your code here\n",
    "num= int(input(\"enter number: \"))\n",
    "if num%5==0:\n",
    "    print(\"hello\")\n",
    "else:\n",
    "    print(\"Bye\")"
   ]
  },
  {
   "cell_type": "raw",
   "metadata": {
    "id": "qfzRUUwOMVjs"
   },
   "source": [
    "6) Write a program to calculate the electricity bill (accept number of unit from user) according to the following criteria :\n",
    "     Unit                                                     Price  \n",
    "uptp 100 units                                             no charge\n",
    "Next 200 units                                              Rs 5 per unit\n",
    "After 200 units                                             Rs 10 per unit\n",
    "(For example if input unit is 350 than total bill amount is Rs.2000\n",
    "(For example if input unit is 97 than total bill amount is Rs.0\n",
    "(For example if input unit is 150 than total bill amount is Rs.250"
   ]
  },
  {
   "cell_type": "code",
   "execution_count": 20,
   "metadata": {},
   "outputs": [
    {
     "name": "stdout",
     "output_type": "stream",
     "text": [
      "Enter no. of units: 150\n",
      "250 is the total charge\n"
     ]
    }
   ],
   "source": [
    "#Type your code here\n",
    "units = int(input(\"Enter no. of units: \"))\n",
    "\n",
    "if units <= 100:\n",
    "\n",
    "  print(\"0 is the total charge\")\n",
    "\n",
    "elif units > 100 and units <= 200:\n",
    "\n",
    "  print(str((units - 100) * 5) + \" is the total charge\")\n",
    "\n",
    "else:\n",
    "\n",
    "  print(str(((units - 100) * 5) + ((units - 200) * 10)) + \" is the total charge\")"
   ]
  },
  {
   "cell_type": "raw",
   "metadata": {
    "id": "msAIDMRDMVjv"
   },
   "source": [
    "7) Write a program to display the last digit of a number.\n"
   ]
  },
  {
   "cell_type": "code",
   "execution_count": 1,
   "metadata": {
    "id": "VQwLuGzbMVjv"
   },
   "outputs": [
    {
     "name": "stdout",
     "output_type": "stream",
     "text": [
      "enter num12345\n",
      "5\n"
     ]
    }
   ],
   "source": [
    "#Type your code here\n",
    "num=input(\"enter num\")\n",
    "a=num[-1] #the program is taking number as string\n",
    "print(a)"
   ]
  },
  {
   "cell_type": "code",
   "execution_count": 2,
   "metadata": {},
   "outputs": [
    {
     "name": "stdout",
     "output_type": "stream",
     "text": [
      "enter num: 976532\n",
      "2\n"
     ]
    }
   ],
   "source": [
    "num=int(input(\"enter num: \"))\n",
    "num = num%10\n",
    "print(num)"
   ]
  },
  {
   "cell_type": "raw",
   "metadata": {
    "id": "UeLHzVZ_MVjw"
   },
   "source": [
    "\n",
    "Q8. Write a program to check whether the last digit of a number( entered by user ) is \n",
    "divisible by 3 or not."
   ]
  },
  {
   "cell_type": "code",
   "execution_count": 6,
   "metadata": {
    "id": "KiQ5wnc6MVjx"
   },
   "outputs": [
    {
     "name": "stdout",
     "output_type": "stream",
     "text": [
      "enter num: 976532\n",
      "the last number is 2\n",
      "last digit of number is not divisible by 3\n"
     ]
    }
   ],
   "source": [
    "#Type your code here\n",
    "num=int(input(\"enter num: \"))\n",
    "num = num%10\n",
    "print(f\"the last number is {num}\")\n",
    "if num%3==0:\n",
    "    print(\"last digit of number is divisible by 3\")\n",
    "else:\n",
    "    print(\"last digit of number is not divisible by 3\")\n",
    "\n"
   ]
  },
  {
   "cell_type": "raw",
   "metadata": {
    "id": "CR4sMmRgMVjy"
   },
   "source": [
    "9) Take values of length and breadth of a rectangle from user and check if it is square or not."
   ]
  },
  {
   "cell_type": "code",
   "execution_count": 2,
   "metadata": {
    "id": "Oj1MT5fCMVjy"
   },
   "outputs": [
    {
     "name": "stdout",
     "output_type": "stream",
     "text": [
      "enter length: 8\n",
      "enter breadth: 8\n",
      "it is square\n"
     ]
    }
   ],
   "source": [
    "#Type your code here \n",
    "length=int(input(\"enter length: \"))\n",
    "breadth= int(input(\"enter breadth: \"))\n",
    "if length==breadth:\n",
    "    print(\"it is square\")\n",
    "else:\n",
    "    print(\"it is not a square\")"
   ]
  },
  {
   "cell_type": "raw",
   "metadata": {
    "id": "B2e5VYbiMVjz"
   },
   "source": [
    "10) Take two int values from user and print greatest among them."
   ]
  },
  {
   "cell_type": "code",
   "execution_count": 8,
   "metadata": {
    "id": "LyYYL78HMVj0"
   },
   "outputs": [
    {
     "name": "stdout",
     "output_type": "stream",
     "text": [
      "enter value 1: 4\n",
      "enter value 2: 9\n",
      "greatest value is 9\n"
     ]
    }
   ],
   "source": [
    "# Type your code here\n",
    "value_1=int(input(\"enter value 1: \"))\n",
    "value_2=int(input(\"enter value 2: \"))\n",
    "if  value_1>value_2:\n",
    "    print(f\"greatest value is {value_1}\")\n",
    "else:\n",
    "    print(f\"greatest value is {value_2}\")"
   ]
  },
  {
   "cell_type": "raw",
   "metadata": {
    "id": "R9gMEjdQMVj1"
   },
   "source": [
    "11) A shop will give discount of 10% if the cost of purchased quantity is more than 1000.\n",
    "Ask user for quantity\n",
    "Suppose, one unit will cost 100.\n",
    "Judge and print total cost for user."
   ]
  },
  {
   "cell_type": "code",
   "execution_count": 12,
   "metadata": {
    "id": "hjvEnOzxMVj2"
   },
   "outputs": [
    {
     "name": "stdout",
     "output_type": "stream",
     "text": [
      "tell quantity: 20\n",
      "cost is 2000\n",
      "discounted cost is 1990.0 \n"
     ]
    }
   ],
   "source": [
    "#Type your code here\n",
    "one_unit=100\n",
    "qt=int(input(\"tell quantity: \"))\n",
    "cost= qt*one_unit\n",
    "print(f\"cost is {cost}\")\n",
    "if cost>1000:\n",
    "    discount=cost-((10/100)*100)\n",
    "    print(f\"discounted cost is {discount} \")\n",
    "else:\n",
    "    print(\"No discount, cost is less than Rs.1000\")"
   ]
  },
  {
   "cell_type": "raw",
   "metadata": {
    "id": "yqYL7FZeMVj3"
   },
   "source": [
    "12) A school has following rules for grading system:\n",
    "\n",
    "a. Below 25 - F\n",
    "\n",
    "b. 25 to 45 - E\n",
    "\n",
    "c. 45 to 50 - D\n",
    "\n",
    "d. 50 to 60 - C\n",
    "\n",
    "e. 60 to 80 - B\n",
    "\n",
    "f. Above 80 - A\n",
    "\n",
    "Ask user to enter marks and print the corresponding grade."
   ]
  },
  {
   "cell_type": "code",
   "execution_count": 15,
   "metadata": {
    "id": "he_r-bpOMVj4"
   },
   "outputs": [
    {
     "name": "stdout",
     "output_type": "stream",
     "text": [
      "enter marks: 42\n",
      "Grade E\n"
     ]
    }
   ],
   "source": [
    "#Type your code here\n",
    "marks=int(input(\"enter marks: \"))\n",
    "if marks<=25:\n",
    "    print(\"Grade F\")\n",
    "if marks>25 and marks<45:\n",
    "    print(\"Grade E\")\n",
    "elif marks>45 and marks<50:\n",
    "    print(\"Grade D\")\n",
    "elif marks>50 and marks<60:\n",
    "    print(\"Grade C\")\n",
    "elif marks>60 and marks<80:\n",
    "    print(\"Grade B\")\n",
    "else:\n",
    "    print(\"Grade A\")\n",
    "    "
   ]
  },
  {
   "cell_type": "raw",
   "metadata": {
    "id": "IUJjt9NbMVj4"
   },
   "source": [
    "13) Take input of age of 3 people by user and determine oldest and youngest among them."
   ]
  },
  {
   "cell_type": "code",
   "execution_count": 12,
   "metadata": {},
   "outputs": [
    {
     "name": "stdout",
     "output_type": "stream",
     "text": [
      "enter age1: 20\n",
      "enter age2: 50\n",
      "enter age3: 43\n",
      "age2 is oldest\n",
      "age1 is youngest\n"
     ]
    }
   ],
   "source": [
    "#Type your code here\n",
    "age1=int(input('enter age1: '))\n",
    "age2=int(input('enter age2: '))\n",
    "age3=int(input('enter age3: '))\n",
    "if age1>age2 and age1>age3:\n",
    "    print('age1 is oldest')\n",
    "elif age2>age1 and age2>age3:\n",
    "    print('age2 is oldest')\n",
    "else:\n",
    "    print('age3 is oldest')\n",
    "if age1<age2 and age1<age3:\n",
    "    print('age1 is youngest')\n",
    "elif age2<age1 and age2<age3:\n",
    "    print('age2 is youngest')\n",
    "else:\n",
    "     print('age3 is youngest')\n"
   ]
  },
  {
   "cell_type": "raw",
   "metadata": {
    "id": "Zc9ovDhsMVj5"
   },
   "source": [
    "14)A student will not be allowed to sit in exam if his/her attendence is less than 75%.\n",
    "\n",
    "Take following input from user\n",
    "\n",
    "Number of classes held\n",
    "\n",
    "Number of classes attended.\n",
    "\n",
    "And print\n",
    "\n",
    "percentage of class attended\n",
    "\n",
    "Is student is allowed to sit in exam or not.\n"
   ]
  },
  {
   "cell_type": "code",
   "execution_count": 11,
   "metadata": {
    "id": "rseYum2_MVj6"
   },
   "outputs": [
    {
     "name": "stdout",
     "output_type": "stream",
     "text": [
      "Enter no. of classes held or total classes: 14\n",
      "Enter no. of classes attended: 11\n",
      "attendance is 79%\n",
      "You are allowed to sit in exam\n"
     ]
    }
   ],
   "source": [
    "#Type your code here\n",
    "cl_held=int(input(\"Enter no. of classes held or total classes: \"))\n",
    "cl_att= int(input(\"Enter no. of classes attended: \"))\n",
    "perc= round((cl_att/cl_held)*100)\n",
    "print(f\"attendance is {perc}%\")\n",
    "if perc>=75:\n",
    "    print(\"You are allowed to sit in exam\")\n",
    "else:\n",
    "    print(\"You are not allowed to sit in exam\")\n",
    "    \n",
    "\n"
   ]
  },
  {
   "cell_type": "raw",
   "metadata": {
    "id": "58UPPHAOMVj6"
   },
   "source": [
    "15) Modify the above question to allow student to sit if he/she has medical cause. Ask user if he/she has medical cause or not ( 'Y' or 'N' ) and print accordingly."
   ]
  },
  {
   "cell_type": "code",
   "execution_count": 16,
   "metadata": {
    "id": "lDi-xLzTMVj7"
   },
   "outputs": [
    {
     "name": "stdout",
     "output_type": "stream",
     "text": [
      "Enter'Y' if you have medical cause else enter 'N': n\n",
      "you are allowed to sit\n"
     ]
    }
   ],
   "source": [
    "#Type your code here\n",
    "user_input=input(\"Enter'Y' if you have medical cause else enter 'N': \")\n",
    "if user_input==\"Y\" or user_input=='y':\n",
    "    print(\"you are not allowed to sit\")\n",
    "else:\n",
    "    print(\"you are allowed to sit\")"
   ]
  },
  {
   "cell_type": "raw",
   "metadata": {
    "id": "kJtSy1EoMVj7"
   },
   "source": [
    "16) Write a program to check if a year is leap year or not.\n",
    "\n",
    "If a year is divisible by 4 then it is leap year but if the year is century year like 2000, 1900, 2100 then it must be divisible by 400."
   ]
  },
  {
   "cell_type": "code",
   "execution_count": 3,
   "metadata": {
    "id": "QUL_YUX3MVj7"
   },
   "outputs": [
    {
     "name": "stdout",
     "output_type": "stream",
     "text": [
      "enter year: 2100\n",
      "it is leap year\n"
     ]
    }
   ],
   "source": [
    "#Type your code here\n",
    "year=int(input(\"enter year: \"))\n",
    "if year%4==0:\n",
    "    print(\"it is leap year\")\n",
    "elif year%400==0:\n",
    "    print(\"It is century year\")"
   ]
  },
  {
   "cell_type": "raw",
   "metadata": {
    "id": "CCNg4yDDMVj8"
   },
   "source": [
    "17) Ask user to enter age, gender ( M or F ), marital status ( Y or N ) and then using following rules print their place of service.\n",
    "\n",
    "if employee is female, then she will work only in urban areas.\n",
    "\n",
    "if employee is a male and age is in between 20 to 40 then he may work in anywhere\n",
    "\n",
    "if employee is male and age is in between 40 t0 60 then he will work in urban areas only.\n",
    "\n",
    "And any other input of age should print \"ERROR\""
   ]
  },
  {
   "cell_type": "code",
   "execution_count": 20,
   "metadata": {
    "id": "RDWMB0CZMVj8"
   },
   "outputs": [
    {
     "name": "stdout",
     "output_type": "stream",
     "text": [
      "enter age: 30\n",
      "enter gender 'M' for male 'F' for female: M\n",
      "enter marital status Y or N: Y\n",
      "work anywhere\n"
     ]
    }
   ],
   "source": [
    "#Type your code here\n",
    "age=int(input(\"enter age: \"))\n",
    "gender=input(\"enter gender 'M' for male 'F' for female: \")\n",
    "marital_status=input(\"enter marital status Y or N: \")\n",
    "if gender=='F':\n",
    "    print (\"employee is female, she will work only in urban areas\")\n",
    "elif gender=='M' and age>=20 and age<40:\n",
    "    print(\"work anywhere\")\n",
    "elif gender=='M' and age>=40 and age<=60:\n",
    "    print(\"work in urban areas only\")\n",
    "else:\n",
    "    print(\"ERROR\")"
   ]
  },
  {
   "cell_type": "code",
   "execution_count": null,
   "metadata": {
    "id": "-TG-QI8TMVj9"
   },
   "outputs": [],
   "source": []
  }
 ],
 "metadata": {
  "colab": {
   "name": "If then Else &Elif Practice Task .ipynb",
   "provenance": []
  },
  "kernelspec": {
   "display_name": "Python 3",
   "language": "python",
   "name": "python3"
  },
  "language_info": {
   "codemirror_mode": {
    "name": "ipython",
    "version": 3
   },
   "file_extension": ".py",
   "mimetype": "text/x-python",
   "name": "python",
   "nbconvert_exporter": "python",
   "pygments_lexer": "ipython3",
   "version": "3.8.8"
  }
 },
 "nbformat": 4,
 "nbformat_minor": 1
}
