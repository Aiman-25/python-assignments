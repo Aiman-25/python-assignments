{
 "cells": [
  {
   "cell_type": "markdown",
   "id": "f6519aad",
   "metadata": {},
   "source": [
    "# User input"
   ]
  },
  {
   "cell_type": "raw",
   "id": "948191fe",
   "metadata": {},
   "source": [
    "1. Take a sentence input from user using input function. Count occurence of a particular character/word in the sentence and print the message that the character appear this many times in the sentence.\n",
    "Like if user inputs> \"My name is Sana. I am an undergraduate student. I am learning Artificial Intellegence in PIAIC\"\n",
    "Your output should be:\n",
    "    I appears 5 times in your sentence\n",
    "Hint: nahi batounga use string methods.\n",
    "Note: Sana is a boy. His full name is SanaUllah😄"
   ]
  },
  {
   "cell_type": "code",
   "execution_count": 2,
   "id": "e13223bc",
   "metadata": {},
   "outputs": [
    {
     "name": "stdout",
     "output_type": "stream",
     "text": [
      "enter sentenceMy name is Sana. I am an undergraduate student. I am learning Artificial Intellegence in PIAIC\n",
      "I appears 5 times in a sentence\n"
     ]
    }
   ],
   "source": [
    "user_input=input(\"enter sentence\")\n",
    "count_method= user_input.count('I')\n",
    "print(f\"I appears {count_method} times in a sentence\")"
   ]
  },
  {
   "cell_type": "raw",
   "id": "bf6c3672",
   "metadata": {},
   "source": [
    "2. Take a number input from user and print the square of that number. \n",
    "\n",
    "if a user inputs 10 Your output should be like:\n",
    "    The square of 10 is 100\n",
    "if a user inputs 5 Your output should be like:\n",
    "    The square of 5 is 25\n",
    "if a user inputs 2 Your output should be like:\n",
    "    The square of 2 is 4\n"
   ]
  },
  {
   "cell_type": "code",
   "execution_count": 10,
   "id": "f0efcf06",
   "metadata": {
    "scrolled": true
   },
   "outputs": [
    {
     "name": "stdout",
     "output_type": "stream",
     "text": [
      "enter number:6\n",
      "the square of number is 36\n"
     ]
    }
   ],
   "source": [
    "user_input=int(input(\"enter number:\"))\n",
    "square=user_input**2\n",
    "print(f\"the square of number is {square}\")"
   ]
  },
  {
   "cell_type": "raw",
   "id": "0da0f529",
   "metadata": {},
   "source": [
    "3. Take two inputs from user using two input functions add these two numbers and print the result.\n",
    "For example if a user inputs 10 in first input, 20 in second input then your output mustbe like:\n",
    "    The sum of 10 and 20 is 30\n",
    "    \n",
    "For example if a user inputs 12 in first input, 30 in second input then your output mustbe like:\n",
    "    The sum of 12 and 30 is 42\n",
    "\n",
    "For example if a user inputs 100 in first input, 200 in second input then your out put mustbe like:\n",
    "    The sum of 100 and 200 is 300"
   ]
  },
  {
   "cell_type": "code",
   "execution_count": 12,
   "id": "1e64bdac",
   "metadata": {},
   "outputs": [
    {
     "name": "stdout",
     "output_type": "stream",
     "text": [
      "enter first number:12\n",
      "enter second number:30\n",
      "The sum of 12 and 30 is 42\n"
     ]
    }
   ],
   "source": [
    "user_input_1= int(input(\"enter first number:\"))\n",
    "user_input_2= int(input(\"enter second number:\"))\n",
    "sum= user_input_1+user_input_2\n",
    "print(\"The sum of {0} and {1} is {2}\".format(user_input_1,user_input_2,sum))\n"
   ]
  },
  {
   "cell_type": "raw",
   "id": "f957eb50",
   "metadata": {},
   "source": [
    "4. Format a string to display a card like string:\n",
    "    \n",
    "            Presidential Initiative for AI & Computing\n",
    "                          ID CARD\n",
    "            Student Name   : Asad Ali\n",
    "            Father Name    : Amjad Ali\n",
    "            Date of Birth  : 01-01-2000\n",
    "            Course Enrolled: Artificial Intelligence\n",
    "            Batch          : 2022\n",
    "            Day            : Saturday \n",
    "            Centre         : Sir Syed University of Engg and Technology\n",
    "                \n",
    "Note: all the field values must be taken as user inputs and stored in variable"
   ]
  },
  {
   "cell_type": "code",
   "execution_count": 2,
   "id": "0f2d4d2d",
   "metadata": {},
   "outputs": [
    {
     "name": "stdout",
     "output_type": "stream",
     "text": [
      "enter student name: Aiman Waseem\n",
      "enter father name: Waseem Hussain\n",
      "DOB:02-05-2002\n",
      "course enrolledArtificial Intelligence\n",
      "batch year2022\n",
      "daySaturday\n",
      "centre Sir Syed University of Engg and Technology\n",
      " Presidential Initiative for AI & Computing\n",
      "                          ID CARD\n",
      "            Student Name   : Aiman Waseem\n",
      "            Father Name    : Waseem Hussain\n",
      "            Date of Birth  : 02-05-2002\n",
      "            Course Enrolled: Artificial Intelligence\n",
      "            Batch          : 2022\n",
      "            Day            : Saturday\n",
      "            Centre         :  Sir Syed University of Engg and Technology\n",
      "                \n",
      "\n"
     ]
    }
   ],
   "source": [
    "Student_name=input(\"enter student name: \")\n",
    "Father_name= input(\"enter father name: \")\n",
    "Date_of_birth= input(\"DOB:\")\n",
    "Course_enrolled=input(\"course enrolled\")\n",
    "batch= input(\"batch year\")\n",
    "day= input(\"day\")\n",
    "center= input(\"centre\")\n",
    "print(f\"\"\" Presidential Initiative for AI & Computing\n",
    "                          ID CARD\n",
    "            Student Name   : {Student_name}\n",
    "            Father Name    : {Father_name}\n",
    "            Date of Birth  : {Date_of_birth}\n",
    "            Course Enrolled: {Course_enrolled}\n",
    "            Batch          : {batch}\n",
    "            Day            : {day}\n",
    "            Centre         : {center}\n",
    "                \n",
    "\"\"\")"
   ]
  },
  {
   "cell_type": "code",
   "execution_count": null,
   "id": "3b6bc461",
   "metadata": {},
   "outputs": [],
   "source": []
  }
 ],
 "metadata": {
  "kernelspec": {
   "display_name": "Python 3",
   "language": "python",
   "name": "python3"
  },
  "language_info": {
   "codemirror_mode": {
    "name": "ipython",
    "version": 3
   },
   "file_extension": ".py",
   "mimetype": "text/x-python",
   "name": "python",
   "nbconvert_exporter": "python",
   "pygments_lexer": "ipython3",
   "version": "3.8.8"
  }
 },
 "nbformat": 4,
 "nbformat_minor": 5
}
